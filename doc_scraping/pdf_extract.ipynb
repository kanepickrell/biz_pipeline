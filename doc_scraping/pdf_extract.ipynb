{
 "cells": [
  {
   "cell_type": "code",
   "execution_count": 2,
   "metadata": {},
   "outputs": [
    {
     "name": "stdout",
     "output_type": "stream",
     "text": [
      "Value:: Contr acts\n",
      "\n",
      "Total data points: 1\n"
     ]
    }
   ],
   "source": [
    "import os\n",
    "import PyPDF2\n",
    "import re\n",
    "import regex_vars\n",
    "\n",
    "folder_path = 'artifacts'\n",
    "\n",
    "# Iterate over all files in the folder\n",
    "for file_name in os.listdir(folder_path):\n",
    "    if file_name.endswith('.pdf'):  # Only consider PDF files\n",
    "        file_path = os.path.join(folder_path, file_name)\n",
    "        # Open the PDF file in read-binary mode\n",
    "        with open(file_path, 'rb') as pdf_file:\n",
    "            pdf_reader = PyPDF2.PdfReader(pdf_file)\n",
    "            \n",
    "\n",
    "            # Process the PDF file\n",
    "            # extract and handle the data from each PDF file\n",
    "\n",
    "            data_points = []\n",
    "            for page_number in range(len(pdf_reader.pages)):\n",
    "                page = pdf_reader.pages[page_number]  # Use pages[page_number] instead of getPage(page_number)\n",
    "                text = page.extract_text()\n",
    "\n",
    "                prop_match = re.search(regex_vars.proposal_regex, text)\n",
    "                if prop_match:\n",
    "                    proposal = prop_match.group(1)\n",
    "                    data_points.append((\"Value:\", proposal))\n",
    "\n",
    "                desc_match = re.search(regex_vars.description_regex, text)\n",
    "                if desc_match:\n",
    "                    description = desc_match.group(1)\n",
    "                    data_points.append((\"Description\", description))\n",
    "\n",
    "                date_match = re.search(regex_vars.date_regex, text)\n",
    "                if date_match:\n",
    "                    date = date_match.group(1)\n",
    "                    data_points.append((\"Date\", date))\n",
    "\n",
    "                time_match = re.search(regex_vars.due_time_regex, text)\n",
    "                if time_match:\n",
    "                    dt = time_match.group(1)\n",
    "                    data_points.append((\"Due Date\", dt))\n",
    "\n",
    "                rec_date_match = re.search(regex_vars.recording_date_regex, text)\n",
    "                if rec_date_match:\n",
    "                    rd = rec_date_match.group(1)\n",
    "                    data_points.append((\"Recording Date\", rd))\n",
    "\n",
    "                rec_time_match = re.search(regex_vars.recording_time_regex, text)\n",
    "                if rec_time_match:\n",
    "                    rt = rec_time_match.group(1)\n",
    "                    data_points.append((\"Recording Time\", rt))\n",
    "\n",
    "        pdf_file.close()\n",
    "\n",
    "        for field, value in data_points:\n",
    "            print(field + \":\", value)\n",
    "\n",
    "        print(\"\\nTotal data points:\", len(data_points))\n"
   ]
  },
  {
   "cell_type": "code",
   "execution_count": null,
   "metadata": {},
   "outputs": [],
   "source": []
  }
 ],
 "metadata": {
  "kernelspec": {
   "display_name": "Python 3",
   "language": "python",
   "name": "python3"
  },
  "language_info": {
   "codemirror_mode": {
    "name": "ipython",
    "version": 3
   },
   "file_extension": ".py",
   "mimetype": "text/x-python",
   "name": "python",
   "nbconvert_exporter": "python",
   "pygments_lexer": "ipython3",
   "version": "3.11.3"
  },
  "orig_nbformat": 4
 },
 "nbformat": 4,
 "nbformat_minor": 2
}
